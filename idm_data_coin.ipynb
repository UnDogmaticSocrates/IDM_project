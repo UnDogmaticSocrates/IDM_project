{
 "cells": [
  {
   "cell_type": "code",
   "execution_count": 1,
   "id": "e3e2a803-4862-4000-bdfc-d03b24505475",
   "metadata": {},
   "outputs": [],
   "source": [
    "import pandas as pd\n",
    "import matplotlib.pyplot as plt\n",
    "import numpy as np"
   ]
  },
  {
   "cell_type": "code",
   "execution_count": 2,
   "id": "b9de7e43-0aeb-4d52-90d0-c24eca457a52",
   "metadata": {
    "scrolled": true
   },
   "outputs": [
    {
     "ename": "FileNotFoundError",
     "evalue": "[Errno 2] No such file or directory: 'datos_idm.xlsx'",
     "output_type": "error",
     "traceback": [
      "\u001b[0;31m---------------------------------------------------------------------------\u001b[0m",
      "\u001b[0;31mFileNotFoundError\u001b[0m                         Traceback (most recent call last)",
      "Cell \u001b[0;32mIn[2], line 1\u001b[0m\n\u001b[0;32m----> 1\u001b[0m df \u001b[38;5;241m=\u001b[39m \u001b[43mpd\u001b[49m\u001b[38;5;241;43m.\u001b[39;49m\u001b[43mread_excel\u001b[49m\u001b[43m(\u001b[49m\u001b[38;5;124;43m\"\u001b[39;49m\u001b[38;5;124;43mdatos_idm.xlsx\u001b[39;49m\u001b[38;5;124;43m\"\u001b[39;49m\u001b[43m)\u001b[49m\n\u001b[1;32m      2\u001b[0m \u001b[38;5;28mprint\u001b[39m(df\u001b[38;5;241m.\u001b[39minfo())\n",
      "File \u001b[0;32m~/.local/lib/python3.12/site-packages/pandas/io/excel/_base.py:495\u001b[0m, in \u001b[0;36mread_excel\u001b[0;34m(io, sheet_name, header, names, index_col, usecols, dtype, engine, converters, true_values, false_values, skiprows, nrows, na_values, keep_default_na, na_filter, verbose, parse_dates, date_parser, date_format, thousands, decimal, comment, skipfooter, storage_options, dtype_backend, engine_kwargs)\u001b[0m\n\u001b[1;32m    493\u001b[0m \u001b[38;5;28;01mif\u001b[39;00m \u001b[38;5;129;01mnot\u001b[39;00m \u001b[38;5;28misinstance\u001b[39m(io, ExcelFile):\n\u001b[1;32m    494\u001b[0m     should_close \u001b[38;5;241m=\u001b[39m \u001b[38;5;28;01mTrue\u001b[39;00m\n\u001b[0;32m--> 495\u001b[0m     io \u001b[38;5;241m=\u001b[39m \u001b[43mExcelFile\u001b[49m\u001b[43m(\u001b[49m\n\u001b[1;32m    496\u001b[0m \u001b[43m        \u001b[49m\u001b[43mio\u001b[49m\u001b[43m,\u001b[49m\n\u001b[1;32m    497\u001b[0m \u001b[43m        \u001b[49m\u001b[43mstorage_options\u001b[49m\u001b[38;5;241;43m=\u001b[39;49m\u001b[43mstorage_options\u001b[49m\u001b[43m,\u001b[49m\n\u001b[1;32m    498\u001b[0m \u001b[43m        \u001b[49m\u001b[43mengine\u001b[49m\u001b[38;5;241;43m=\u001b[39;49m\u001b[43mengine\u001b[49m\u001b[43m,\u001b[49m\n\u001b[1;32m    499\u001b[0m \u001b[43m        \u001b[49m\u001b[43mengine_kwargs\u001b[49m\u001b[38;5;241;43m=\u001b[39;49m\u001b[43mengine_kwargs\u001b[49m\u001b[43m,\u001b[49m\n\u001b[1;32m    500\u001b[0m \u001b[43m    \u001b[49m\u001b[43m)\u001b[49m\n\u001b[1;32m    501\u001b[0m \u001b[38;5;28;01melif\u001b[39;00m engine \u001b[38;5;129;01mand\u001b[39;00m engine \u001b[38;5;241m!=\u001b[39m io\u001b[38;5;241m.\u001b[39mengine:\n\u001b[1;32m    502\u001b[0m     \u001b[38;5;28;01mraise\u001b[39;00m \u001b[38;5;167;01mValueError\u001b[39;00m(\n\u001b[1;32m    503\u001b[0m         \u001b[38;5;124m\"\u001b[39m\u001b[38;5;124mEngine should not be specified when passing \u001b[39m\u001b[38;5;124m\"\u001b[39m\n\u001b[1;32m    504\u001b[0m         \u001b[38;5;124m\"\u001b[39m\u001b[38;5;124man ExcelFile - ExcelFile already has the engine set\u001b[39m\u001b[38;5;124m\"\u001b[39m\n\u001b[1;32m    505\u001b[0m     )\n",
      "File \u001b[0;32m~/.local/lib/python3.12/site-packages/pandas/io/excel/_base.py:1550\u001b[0m, in \u001b[0;36mExcelFile.__init__\u001b[0;34m(self, path_or_buffer, engine, storage_options, engine_kwargs)\u001b[0m\n\u001b[1;32m   1548\u001b[0m     ext \u001b[38;5;241m=\u001b[39m \u001b[38;5;124m\"\u001b[39m\u001b[38;5;124mxls\u001b[39m\u001b[38;5;124m\"\u001b[39m\n\u001b[1;32m   1549\u001b[0m \u001b[38;5;28;01melse\u001b[39;00m:\n\u001b[0;32m-> 1550\u001b[0m     ext \u001b[38;5;241m=\u001b[39m \u001b[43minspect_excel_format\u001b[49m\u001b[43m(\u001b[49m\n\u001b[1;32m   1551\u001b[0m \u001b[43m        \u001b[49m\u001b[43mcontent_or_path\u001b[49m\u001b[38;5;241;43m=\u001b[39;49m\u001b[43mpath_or_buffer\u001b[49m\u001b[43m,\u001b[49m\u001b[43m \u001b[49m\u001b[43mstorage_options\u001b[49m\u001b[38;5;241;43m=\u001b[39;49m\u001b[43mstorage_options\u001b[49m\n\u001b[1;32m   1552\u001b[0m \u001b[43m    \u001b[49m\u001b[43m)\u001b[49m\n\u001b[1;32m   1553\u001b[0m     \u001b[38;5;28;01mif\u001b[39;00m ext \u001b[38;5;129;01mis\u001b[39;00m \u001b[38;5;28;01mNone\u001b[39;00m:\n\u001b[1;32m   1554\u001b[0m         \u001b[38;5;28;01mraise\u001b[39;00m \u001b[38;5;167;01mValueError\u001b[39;00m(\n\u001b[1;32m   1555\u001b[0m             \u001b[38;5;124m\"\u001b[39m\u001b[38;5;124mExcel file format cannot be determined, you must specify \u001b[39m\u001b[38;5;124m\"\u001b[39m\n\u001b[1;32m   1556\u001b[0m             \u001b[38;5;124m\"\u001b[39m\u001b[38;5;124man engine manually.\u001b[39m\u001b[38;5;124m\"\u001b[39m\n\u001b[1;32m   1557\u001b[0m         )\n",
      "File \u001b[0;32m~/.local/lib/python3.12/site-packages/pandas/io/excel/_base.py:1402\u001b[0m, in \u001b[0;36minspect_excel_format\u001b[0;34m(content_or_path, storage_options)\u001b[0m\n\u001b[1;32m   1399\u001b[0m \u001b[38;5;28;01mif\u001b[39;00m \u001b[38;5;28misinstance\u001b[39m(content_or_path, \u001b[38;5;28mbytes\u001b[39m):\n\u001b[1;32m   1400\u001b[0m     content_or_path \u001b[38;5;241m=\u001b[39m BytesIO(content_or_path)\n\u001b[0;32m-> 1402\u001b[0m \u001b[38;5;28;01mwith\u001b[39;00m \u001b[43mget_handle\u001b[49m\u001b[43m(\u001b[49m\n\u001b[1;32m   1403\u001b[0m \u001b[43m    \u001b[49m\u001b[43mcontent_or_path\u001b[49m\u001b[43m,\u001b[49m\u001b[43m \u001b[49m\u001b[38;5;124;43m\"\u001b[39;49m\u001b[38;5;124;43mrb\u001b[39;49m\u001b[38;5;124;43m\"\u001b[39;49m\u001b[43m,\u001b[49m\u001b[43m \u001b[49m\u001b[43mstorage_options\u001b[49m\u001b[38;5;241;43m=\u001b[39;49m\u001b[43mstorage_options\u001b[49m\u001b[43m,\u001b[49m\u001b[43m \u001b[49m\u001b[43mis_text\u001b[49m\u001b[38;5;241;43m=\u001b[39;49m\u001b[38;5;28;43;01mFalse\u001b[39;49;00m\n\u001b[1;32m   1404\u001b[0m \u001b[43m\u001b[49m\u001b[43m)\u001b[49m \u001b[38;5;28;01mas\u001b[39;00m handle:\n\u001b[1;32m   1405\u001b[0m     stream \u001b[38;5;241m=\u001b[39m handle\u001b[38;5;241m.\u001b[39mhandle\n\u001b[1;32m   1406\u001b[0m     stream\u001b[38;5;241m.\u001b[39mseek(\u001b[38;5;241m0\u001b[39m)\n",
      "File \u001b[0;32m~/.local/lib/python3.12/site-packages/pandas/io/common.py:882\u001b[0m, in \u001b[0;36mget_handle\u001b[0;34m(path_or_buf, mode, encoding, compression, memory_map, is_text, errors, storage_options)\u001b[0m\n\u001b[1;32m    873\u001b[0m         handle \u001b[38;5;241m=\u001b[39m \u001b[38;5;28mopen\u001b[39m(\n\u001b[1;32m    874\u001b[0m             handle,\n\u001b[1;32m    875\u001b[0m             ioargs\u001b[38;5;241m.\u001b[39mmode,\n\u001b[0;32m   (...)\u001b[0m\n\u001b[1;32m    878\u001b[0m             newline\u001b[38;5;241m=\u001b[39m\u001b[38;5;124m\"\u001b[39m\u001b[38;5;124m\"\u001b[39m,\n\u001b[1;32m    879\u001b[0m         )\n\u001b[1;32m    880\u001b[0m     \u001b[38;5;28;01melse\u001b[39;00m:\n\u001b[1;32m    881\u001b[0m         \u001b[38;5;66;03m# Binary mode\u001b[39;00m\n\u001b[0;32m--> 882\u001b[0m         handle \u001b[38;5;241m=\u001b[39m \u001b[38;5;28;43mopen\u001b[39;49m\u001b[43m(\u001b[49m\u001b[43mhandle\u001b[49m\u001b[43m,\u001b[49m\u001b[43m \u001b[49m\u001b[43mioargs\u001b[49m\u001b[38;5;241;43m.\u001b[39;49m\u001b[43mmode\u001b[49m\u001b[43m)\u001b[49m\n\u001b[1;32m    883\u001b[0m     handles\u001b[38;5;241m.\u001b[39mappend(handle)\n\u001b[1;32m    885\u001b[0m \u001b[38;5;66;03m# Convert BytesIO or file objects passed with an encoding\u001b[39;00m\n",
      "\u001b[0;31mFileNotFoundError\u001b[0m: [Errno 2] No such file or directory: 'datos_idm.xlsx'"
     ]
    }
   ],
   "source": [
    "df = pd.read_excel(\"datos_idm.xlsx\")\n",
    "print(df.info())"
   ]
  },
  {
   "cell_type": "code",
   "execution_count": null,
   "id": "44a62733-a2c5-4d83-b180-383a958cf0cf",
   "metadata": {},
   "outputs": [],
   "source": [
    "df.isnull().sum()"
   ]
  },
  {
   "cell_type": "code",
   "execution_count": null,
   "id": "1f21b966-f78b-498e-9ed3-bade44d26b3f",
   "metadata": {},
   "outputs": [],
   "source": [
    "df.dropna(subset=['empresa'])"
   ]
  },
  {
   "cell_type": "code",
   "execution_count": null,
   "id": "41e53939-0b44-4088-a8eb-3bdf7bd6e8c3",
   "metadata": {
    "scrolled": true
   },
   "outputs": [],
   "source": [
    "df[\"fecha_de_po\"] = pd.to_datetime(df[\"fecha_de_po\"]).dt.normalize()\n",
    "print(df.dtypes)"
   ]
  },
  {
   "cell_type": "code",
   "execution_count": null,
   "id": "b9bb0f2e-c037-4b3a-8b03-355090b47570",
   "metadata": {},
   "outputs": [],
   "source": [
    "df.sample()"
   ]
  },
  {
   "cell_type": "code",
   "execution_count": null,
   "id": "c550670b-adfd-404c-81e6-4e609844c3e2",
   "metadata": {},
   "outputs": [],
   "source": [
    "df['day'] = df['fecha_de_po'].dt.day\n",
    "df['week'] = df['fecha_de_po'].dt.isocalendar().week\n",
    "df['month'] = df['fecha_de_po'].dt.month\n",
    "df['year'] = df['fecha_de_po'].dt.year\n",
    "df.info()"
   ]
  },
  {
   "cell_type": "code",
   "execution_count": null,
   "id": "e21762da-b747-4cdd-b539-c5f21ca46be2",
   "metadata": {
    "scrolled": true
   },
   "outputs": [],
   "source": [
    "print(df.describe())"
   ]
  },
  {
   "cell_type": "code",
   "execution_count": null,
   "id": "c20eb356-ea9c-444c-854b-e3ca11514afc",
   "metadata": {},
   "outputs": [],
   "source": [
    "columnas = ['p_unit_dll', 'sub_total_dll', 'total_iva_dll', 'p_unit_pesos', 'sub_total_pesos', 'total_iva_pesos']\n",
    "\n",
    "df.loc[:, columnas] = df[columnas].fillna(0)"
   ]
  },
  {
   "cell_type": "code",
   "execution_count": null,
   "id": "3e57a3cb-2241-443a-92e9-df1d85b3b335",
   "metadata": {},
   "outputs": [],
   "source": [
    "df.isna().sum()"
   ]
  },
  {
   "cell_type": "code",
   "execution_count": null,
   "id": "6a7709ff-3dcc-4572-aed2-b313cc063f51",
   "metadata": {},
   "outputs": [],
   "source": [
    "df.describe()"
   ]
  },
  {
   "cell_type": "code",
   "execution_count": null,
   "id": "a47c2718-93f8-4853-b1d5-a1812609dc52",
   "metadata": {},
   "outputs": [],
   "source": [
    "df_2021 = df[df['year'] == 2021]\n",
    "df_2021.info()"
   ]
  },
  {
   "cell_type": "code",
   "execution_count": null,
   "id": "ad6d6559-1e11-4157-b9a1-8f6fbefb89e6",
   "metadata": {},
   "outputs": [],
   "source": [
    "df_2022 = df[df['year'] == 2022]\n",
    "df_2023 = df[df['year'] == 2023]\n",
    "df_2024 = df[df['year'] == 2024]"
   ]
  },
  {
   "cell_type": "code",
   "execution_count": null,
   "id": "6a6f9a98-e676-4b2e-b215-ce7248123e8b",
   "metadata": {},
   "outputs": [],
   "source": [
    "df_per_month_2021 = df_2021.groupby(['month']).agg(\n",
    "    total_ordenes=('descripción', 'count')   # Cuenta cuántas órdenes hubo\n",
    ")\n",
    "df_per_month_2021 = df_per_month_2021.sort_values(by=\"total_ordenes\", ascending=False)"
   ]
  },
  {
   "cell_type": "code",
   "execution_count": null,
   "id": "499a867d-4d8c-4139-962a-d1cf08aed88f",
   "metadata": {},
   "outputs": [],
   "source": [
    "df_per_month_2021.describe()"
   ]
  },
  {
   "cell_type": "code",
   "execution_count": null,
   "id": "ddfe4f20-ebb0-4967-8190-a2c44131666f",
   "metadata": {
    "scrolled": true
   },
   "outputs": [],
   "source": [
    "df_per_month_2021.plot(kind='bar') \n",
    "plt.show()"
   ]
  },
  {
   "cell_type": "markdown",
   "id": "d6d434aa-02e7-48b9-8698-47be46e3fcdf",
   "metadata": {},
   "source": [
    "En 2021 los tres meses con mayor cantidad de proyectos fue Mayo, Marzo y Abril"
   ]
  },
  {
   "cell_type": "code",
   "execution_count": null,
   "id": "624b7b63-1d69-4ff1-9e05-0221a1e0a699",
   "metadata": {},
   "outputs": [],
   "source": [
    "df_per_month_2022 = df_2022.groupby(['month']).agg(\n",
    "    total_ordenes=('descripción', 'count')   # Cuenta cuántas órdenes hubo\n",
    ")\n",
    "df_per_month_2023 = df_2023.groupby(['month']).agg(\n",
    "    total_ordenes=('descripción', 'count')   # Cuenta cuántas órdenes hubo\n",
    ")\n",
    "df_per_month_2024 = df_2024.groupby(['month']).agg(\n",
    "    total_ordenes=('descripción', 'count')   # Cuenta cuántas órdenes hubo\n",
    ")\n",
    "df_per_month_2022 = df_per_month_2022.sort_values(by=\"total_ordenes\", ascending=False)\n",
    "df_per_month_2023 = df_per_month_2023.sort_values(by=\"total_ordenes\", ascending=False)\n",
    "df_per_month_2024 = df_per_month_2024.sort_values(by=\"total_ordenes\", ascending=False)"
   ]
  },
  {
   "cell_type": "code",
   "execution_count": null,
   "id": "f820514b-8b5a-4d4b-b97f-8f0f2e11d862",
   "metadata": {},
   "outputs": [],
   "source": [
    "df_per_month_2022.plot(kind='bar') \n",
    "plt.show()"
   ]
  },
  {
   "cell_type": "markdown",
   "id": "70b28db0-0da4-49fd-86fd-2a3944a4929c",
   "metadata": {},
   "source": [
    "En el 2022 los tres meses con mayor cantidad de proyectos fueron Octubre, Septiembre y Diciembre"
   ]
  },
  {
   "cell_type": "code",
   "execution_count": null,
   "id": "43411af3-7a50-4e0f-8329-c1350e6dff0b",
   "metadata": {
    "scrolled": true
   },
   "outputs": [],
   "source": [
    "df_per_month_2023.plot(kind='bar') \n",
    "plt.show()"
   ]
  },
  {
   "cell_type": "markdown",
   "id": "ebfdaaae-7626-4ead-9de3-3e9b48038121",
   "metadata": {},
   "source": [
    "Los tres meses con mayor cantidad de proyectos del 2023 fueron Mayo, Noviembre y Marzo"
   ]
  },
  {
   "cell_type": "code",
   "execution_count": null,
   "id": "0106e939-84bd-46df-af10-f9438f70eaef",
   "metadata": {
    "scrolled": true
   },
   "outputs": [],
   "source": [
    "df_per_month_2024.plot(kind='bar') \n",
    "plt.show()"
   ]
  },
  {
   "cell_type": "markdown",
   "id": "b8f8e2b5-e9b8-465f-9b97-41edad433500",
   "metadata": {},
   "source": [
    "Los mayores con mayor numero de ordenes del 2024 fueron Junio, Julio y Febrero"
   ]
  },
  {
   "cell_type": "code",
   "execution_count": null,
   "id": "d5dd328a-e291-4e19-a6f2-96c9248c8f9c",
   "metadata": {},
   "outputs": [],
   "source": [
    "df_mayor_produccion_2021 = df_2021[df_2021['month'].isin([3,4,5])]\n",
    "df_mayor_produccion_2021.sample(5)"
   ]
  },
  {
   "cell_type": "code",
   "execution_count": null,
   "id": "9811a0b6-3b53-4013-aab5-4cd0989800f6",
   "metadata": {},
   "outputs": [],
   "source": [
    "df_grouped = df_mayor_produccion_2021.groupby('empresa')['sub_total_dll'].sum()\n",
    "df_grouped.plot(kind = 'bar')\n",
    "plt.show()"
   ]
  },
  {
   "cell_type": "code",
   "execution_count": null,
   "id": "dbbc04e7-f385-4d0e-9341-77acc836fdc8",
   "metadata": {
    "scrolled": true
   },
   "outputs": [],
   "source": [
    "df_grouped_pesos = df_mayor_produccion_2021.groupby('empresa')['sub_total_pesos'].sum()\n",
    "df_grouped_pesos.plot(kind = 'bar')\n",
    "plt.show()"
   ]
  },
  {
   "cell_type": "code",
   "execution_count": null,
   "id": "adcbbd5b-a0e6-40d1-a385-b5e01f49b68f",
   "metadata": {},
   "outputs": [],
   "source": [
    "conteo_empresas = df_mayor_produccion_2021['empresa'].value_counts()\n",
    "print(conteo_empresas)"
   ]
  },
  {
   "cell_type": "code",
   "execution_count": null,
   "id": "6fa52b8c-1aec-451e-9bb9-611ddd7db062",
   "metadata": {},
   "outputs": [],
   "source": [
    "df_filtrado = df_mayor_produccion_2021[df_mayor_produccion_2021['empresa'].isin(['AUXITROL', 'BOURNS', 'MEDTRONIC'])]\n",
    "df_grouped_kind = df_filtrado.groupby(['empresa', 'descripción'])['sub_total_dll'].sum().reset_index()"
   ]
  },
  {
   "cell_type": "code",
   "execution_count": null,
   "id": "33a4a839-0592-44d1-a745-2c00edaea656",
   "metadata": {},
   "outputs": [],
   "source": [
    "df_grouped_kind.count()"
   ]
  },
  {
   "cell_type": "code",
   "execution_count": null,
   "id": "d08843c3-d9ae-4306-8cfa-c0ba3d01afca",
   "metadata": {},
   "outputs": [],
   "source": [
    "df_grouped_kind = df_grouped_kind.sort_values(by='sub_total_dll', ascending=False)"
   ]
  },
  {
   "cell_type": "code",
   "execution_count": null,
   "id": "6668856f-c48f-48f3-93d2-6bbc53f6d7c4",
   "metadata": {},
   "outputs": [],
   "source": [
    "df_grouped_kind.head(10)"
   ]
  },
  {
   "cell_type": "code",
   "execution_count": null,
   "id": "a7f1f11e-8ca0-41b7-b315-d31658a5fae1",
   "metadata": {},
   "outputs": [],
   "source": [
    "df_filtrado1 = df_mayor_produccion_2021[df_mayor_produccion_2021['empresa'].isin(['AUXITROL', 'BOURNS', 'MEDTRONIC'])]\n",
    "df_grouped_kind_pesos = df_filtrado1.groupby(['empresa', 'descripción'])['sub_total_pesos'].sum().reset_index()\n",
    "df_grouped_kind_pesos = df_grouped_kind_pesos.sort_values(by='sub_total_pesos', ascending=False)"
   ]
  },
  {
   "cell_type": "code",
   "execution_count": null,
   "id": "14f1949a-4e42-4360-a883-e9ee5370e688",
   "metadata": {},
   "outputs": [],
   "source": [
    "df_grouped_kind_pesos.head(10)"
   ]
  },
  {
   "cell_type": "markdown",
   "id": "4ef7c7bf-249b-4552-b66b-3e308582df13",
   "metadata": {},
   "source": [
    "2024"
   ]
  },
  {
   "cell_type": "code",
   "execution_count": null,
   "id": "2b514346-59ea-4ad0-8e88-9a350e23309f",
   "metadata": {
    "scrolled": true
   },
   "outputs": [],
   "source": [
    "df_mayor_produccion_2024 = df_2024[df_2024['month'].isin([6,7,2])]\n",
    "df_mayor_produccion_2024.sample(5)"
   ]
  },
  {
   "cell_type": "code",
   "execution_count": null,
   "id": "9a62b60e-e1f6-463b-a9f3-e0b23255afcf",
   "metadata": {
    "scrolled": true
   },
   "outputs": [],
   "source": [
    "conteo_empresas_2024 = df_mayor_produccion_2024['empresa'].value_counts()\n",
    "print(conteo_empresas_2024)"
   ]
  },
  {
   "cell_type": "code",
   "execution_count": null,
   "id": "a1f7edab-d7a2-4035-81b7-064d11a24af7",
   "metadata": {},
   "outputs": [],
   "source": [
    "df_grouped_2024 = df_mayor_produccion_2024.groupby('empresa')['sub_total_dll'].sum()\n",
    "df_grouped_2024.plot(kind = 'bar', color = 'darkorange', edgecolor = 'black')\n",
    "plt.title('Ganancias Totales por Empresa en 2024', fontsize=16, fontweight='bold')\n",
    "plt.xlabel('Empresa', fontsize=14, fontweight='bold')\n",
    "plt.ylabel('Total en Dólares', fontsize=14, fontweight='bold')\n",
    "plt.xticks(rotation=45, ha='right', fontsize=12)\n",
    "plt.grid(axis='y', linestyle='--', alpha=0.7)\n",
    "for i, value in enumerate(df_grouped_2024):\n",
    "    plt.text(i, value + (value * 0.02), f'${value:,.2f}', ha='center', fontsize=11, fontweight='light')\n",
    "    plt.subplots_adjust(bottom=0.2, left=0.1, right=0.95, top=0.9)\n",
    "\n",
    "plt.show()"
   ]
  },
  {
   "cell_type": "code",
   "execution_count": null,
   "id": "b9a8ffcb-abc6-4553-983a-7f4cbc9ce816",
   "metadata": {},
   "outputs": [],
   "source": [
    "df_grouped_pesos_2024 = df_mayor_produccion_2024.groupby('empresa')['sub_total_pesos'].sum()\n",
    "df_grouped_pesos_2024.plot(kind = 'bar',color = 'darkorange', edgecolor = 'black')\n",
    "plt.title('Ganancias Totales por Empresa en 2024', fontsize=16, fontweight='bold')\n",
    "plt.xlabel('Empresa', fontsize=14, fontweight='bold')\n",
    "plt.ylabel('Total en Pesos', fontsize=14, fontweight='bold')\n",
    "plt.xticks(rotation=45, ha='right', fontsize=12)\n",
    "plt.grid(axis='y', linestyle='--', alpha=0.7)\n",
    "for i, value in enumerate(df_grouped_pesos_2024):\n",
    "    plt.text(i, value + (value * 0.02), f'${value:,.2f}', ha='center', fontsize=11, fontweight='light')\n",
    "    plt.subplots_adjust(bottom=0.2, left=0.1, right=0.95, top=0.9)\n",
    "plt.show()"
   ]
  },
  {
   "cell_type": "code",
   "execution_count": null,
   "id": "0829a78c-67c6-4489-9a45-167dea182232",
   "metadata": {},
   "outputs": [],
   "source": [
    "df_filtrado_2024 = df_mayor_produccion_2024[df_mayor_produccion_2024['empresa'].isin(['Logical USD', 'Greatbatch', 'Medtronic', 'Caliente'])]\n",
    "df_grouped_kind_2024 = df_filtrado_2024.groupby(['empresa', 'descripción'])['sub_total_dll'].sum().reset_index()"
   ]
  },
  {
   "cell_type": "code",
   "execution_count": null,
   "id": "67381a00-6dba-4f1b-8d1e-75e45ab73761",
   "metadata": {},
   "outputs": [],
   "source": [
    "df_grouped_kind_2024 = df_grouped_kind_2024.sort_values(by='sub_total_dll', ascending=False)"
   ]
  },
  {
   "cell_type": "code",
   "execution_count": null,
   "id": "b2e1efbb-3b48-483f-8662-4cf2ceb332f7",
   "metadata": {},
   "outputs": [],
   "source": [
    "df_filtrado_2024 = df_mayor_produccion_2024[df_mayor_produccion_2024['empresa'].isin(['Logical USD', 'Greatbatch', 'Medtronic', 'Caliente'])]\n",
    "df_grouped_kind_pesos_2024 = df_filtrado_2024.groupby(['empresa', 'descripción', 'po'])['sub_total_pesos'].sum().reset_index()\n",
    "df_grouped_kind_pesos_2024 = df_grouped_kind_pesos_2024.sort_values(by='sub_total_pesos', ascending=False)"
   ]
  },
  {
   "cell_type": "code",
   "execution_count": null,
   "id": "35da62d5-f6cc-436e-afb7-aa33d07cb739",
   "metadata": {},
   "outputs": [],
   "source": [
    "df_grouped_kind_pesos_2024.head(10)"
   ]
  },
  {
   "cell_type": "code",
   "execution_count": null,
   "id": "11b33b00-1054-4471-ade2-80986997b21c",
   "metadata": {},
   "outputs": [],
   "source": [
    "df_grouped_kind_2024.head(10)"
   ]
  },
  {
   "cell_type": "code",
   "execution_count": null,
   "id": "1ad2b798-29e7-4bad-b669-0504407c08d7",
   "metadata": {},
   "outputs": [],
   "source": []
  }
 ],
 "metadata": {
  "kernelspec": {
   "display_name": "Python 3",
   "language": "python",
   "name": "python3"
  },
  "language_info": {
   "codemirror_mode": {
    "name": "ipython",
    "version": 3
   },
   "file_extension": ".py",
   "mimetype": "text/x-python",
   "name": "python",
   "nbconvert_exporter": "python",
   "pygments_lexer": "ipython3",
   "version": "3.12.1"
  }
 },
 "nbformat": 4,
 "nbformat_minor": 5
}
