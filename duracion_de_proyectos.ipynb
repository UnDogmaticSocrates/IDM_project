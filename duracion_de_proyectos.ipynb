{
 "cells": [
  {
   "cell_type": "code",
   "execution_count": 67,
   "id": "cb09f560-43e5-40ce-80d6-934011377e4b",
   "metadata": {},
   "outputs": [],
   "source": [
    "import pandas as pd "
   ]
  },
  {
   "cell_type": "code",
   "execution_count": 68,
   "id": "108fd18e-d4bd-419d-8494-38858acebff8",
   "metadata": {},
   "outputs": [
    {
     "name": "stdout",
     "output_type": "stream",
     "text": [
      "<class 'pandas.core.frame.DataFrame'>\n",
      "RangeIndex: 1700 entries, 0 to 1699\n",
      "Data columns (total 15 columns):\n",
      " #   Column                Non-Null Count  Dtype         \n",
      "---  ------                --------------  -----         \n",
      " 0   empresa               1132 non-null   object        \n",
      " 1   requisitor            985 non-null    object        \n",
      " 2   po                    1115 non-null   object        \n",
      " 3   fecha_de_po           863 non-null    datetime64[ns]\n",
      " 4   num_cot               996 non-null    object        \n",
      " 5   cantidad              1125 non-null   float64       \n",
      " 6   descripción           1133 non-null   object        \n",
      " 7   factura               384 non-null    object        \n",
      " 8   fecha_de_facturación  380 non-null    datetime64[ns]\n",
      " 9   p_unit_dll            722 non-null    float64       \n",
      " 10  p_unit_pesos          408 non-null    float64       \n",
      " 11  sub_total_dll         896 non-null    float64       \n",
      " 12  sub_total_pesos       1460 non-null   float64       \n",
      " 13  total_iva_dll         227 non-null    float64       \n",
      " 14  total_iva_pesos       187 non-null    float64       \n",
      "dtypes: datetime64[ns](2), float64(7), object(6)\n",
      "memory usage: 199.3+ KB\n"
     ]
    }
   ],
   "source": [
    "df = pd.read_excel('datos_idm.xlsx')\n",
    "df.info()"
   ]
  },
  {
   "cell_type": "code",
   "execution_count": 69,
   "id": "48739702-edec-4686-8d89-2308bedbf438",
   "metadata": {},
   "outputs": [],
   "source": [
    "df['tiempo_de_proceso'] = df['fecha_de_facturación'] - df['fecha_de_po']"
   ]
  },
  {
   "cell_type": "code",
   "execution_count": 70,
   "id": "27f16b2d-cc38-4e54-b6d3-ad698a39c8ed",
   "metadata": {},
   "outputs": [
    {
     "data": {
      "text/plain": [
       "0     0 days\n",
       "1     6 days\n",
       "2    23 days\n",
       "3   120 days\n",
       "4    29 days\n",
       "5    29 days\n",
       "6    17 days\n",
       "7    40 days\n",
       "8    11 days\n",
       "9     0 days\n",
       "Name: tiempo_de_proceso, dtype: timedelta64[ns]"
      ]
     },
     "execution_count": 70,
     "metadata": {},
     "output_type": "execute_result"
    }
   ],
   "source": [
    "df['tiempo_de_proceso'].head(10)"
   ]
  },
  {
   "cell_type": "code",
   "execution_count": 71,
   "id": "8b3c28cd-e0cb-4937-8f4b-e11737139fa9",
   "metadata": {},
   "outputs": [
    {
     "data": {
      "text/plain": [
       "246    1129 days\n",
       "90      342 days\n",
       "169     123 days\n",
       "3       120 days\n",
       "348      98 days\n",
       "          ...   \n",
       "1695         NaT\n",
       "1696         NaT\n",
       "1697         NaT\n",
       "1698         NaT\n",
       "1699         NaT\n",
       "Name: tiempo_de_proceso, Length: 1700, dtype: timedelta64[ns]"
      ]
     },
     "execution_count": 71,
     "metadata": {},
     "output_type": "execute_result"
    }
   ],
   "source": [
    "df['tiempo_de_proceso'].sort_values(ascending=False)"
   ]
  },
  {
   "cell_type": "code",
   "execution_count": 72,
   "id": "40d4d854-9909-4ac0-b813-47ce842fc6e8",
   "metadata": {},
   "outputs": [
    {
     "data": {
      "text/plain": [
       "count                           379\n",
       "mean     25 days 03:55:34.036939314\n",
       "std      67 days 08:55:18.754967609\n",
       "min             -353 days +00:00:00\n",
       "25%                10 days 00:00:00\n",
       "50%                20 days 00:00:00\n",
       "75%                31 days 00:00:00\n",
       "max              1129 days 00:00:00\n",
       "Name: tiempo_de_proceso, dtype: object"
      ]
     },
     "execution_count": 72,
     "metadata": {},
     "output_type": "execute_result"
    }
   ],
   "source": [
    "df['tiempo_de_proceso'].describe()"
   ]
  },
  {
   "cell_type": "code",
   "execution_count": 73,
   "id": "41eed4e4-67c4-4a42-8297-5d646abe3131",
   "metadata": {},
   "outputs": [],
   "source": [
    "tiempo_de_proceso = df[['tiempo_de_proceso', 'descripción']].sort_values(by='tiempo_de_proceso', ascending=False)"
   ]
  },
  {
   "cell_type": "code",
   "execution_count": 74,
   "id": "ad120d0a-3d08-4757-86b4-4b8ba3f907e9",
   "metadata": {},
   "outputs": [
    {
     "name": "stdout",
     "output_type": "stream",
     "text": [
      "     tiempo_de_proceso                                        descripción\n",
      "246          1129 days                                 Dado  TM-012854-01\n",
      "90            342 days   Retrabajo de Cavidades de fixtura Nest #19TM0...\n",
      "169           123 days  Fixtura de Sujeción de Válvula para limpieza d...\n",
      "3             120 days                 Tip Attach tubing Flaring TS114580\n",
      "348            98 days                             Fixture RSW 19TM09MK00\n",
      "...                ...                                                ...\n",
      "1695               NaT                                                NaN\n",
      "1696               NaT                                                NaN\n",
      "1697               NaT                                                NaN\n",
      "1698               NaT                                                NaN\n",
      "1699               NaT                                       rectificador\n",
      "\n",
      "[1700 rows x 2 columns]\n"
     ]
    }
   ],
   "source": [
    "print(tiempo_de_proceso)"
   ]
  },
  {
   "cell_type": "code",
   "execution_count": 75,
   "id": "a59a6b8d-3e3c-49af-9d7a-d96e91afdf1e",
   "metadata": {},
   "outputs": [
    {
     "data": {
      "text/html": [
       "<div>\n",
       "<style scoped>\n",
       "    .dataframe tbody tr th:only-of-type {\n",
       "        vertical-align: middle;\n",
       "    }\n",
       "\n",
       "    .dataframe tbody tr th {\n",
       "        vertical-align: top;\n",
       "    }\n",
       "\n",
       "    .dataframe thead th {\n",
       "        text-align: right;\n",
       "    }\n",
       "</style>\n",
       "<table border=\"1\" class=\"dataframe\">\n",
       "  <thead>\n",
       "    <tr style=\"text-align: right;\">\n",
       "      <th></th>\n",
       "      <th>empresa</th>\n",
       "      <th>requisitor</th>\n",
       "      <th>po</th>\n",
       "      <th>fecha_de_po</th>\n",
       "      <th>num_cot</th>\n",
       "      <th>cantidad</th>\n",
       "      <th>descripción</th>\n",
       "      <th>factura</th>\n",
       "      <th>fecha_de_facturación</th>\n",
       "      <th>p_unit_dll</th>\n",
       "      <th>p_unit_pesos</th>\n",
       "      <th>sub_total_dll</th>\n",
       "      <th>sub_total_pesos</th>\n",
       "      <th>total_iva_dll</th>\n",
       "      <th>total_iva_pesos</th>\n",
       "      <th>tiempo_de_proceso</th>\n",
       "    </tr>\n",
       "  </thead>\n",
       "  <tbody>\n",
       "    <tr>\n",
       "      <th>74</th>\n",
       "      <td>Caliente</td>\n",
       "      <td>Marlen Sarabia</td>\n",
       "      <td>4023</td>\n",
       "      <td>2024-02-20</td>\n",
       "      <td>4023</td>\n",
       "      <td>2.0</td>\n",
       "      <td>Soporte de pared Tabloide ( 2 Sets )</td>\n",
       "      <td>94</td>\n",
       "      <td>2023-03-04</td>\n",
       "      <td>NaN</td>\n",
       "      <td>1310.0</td>\n",
       "      <td>NaN</td>\n",
       "      <td>2620.0</td>\n",
       "      <td>NaN</td>\n",
       "      <td>2829.6</td>\n",
       "      <td>-353 days</td>\n",
       "    </tr>\n",
       "  </tbody>\n",
       "</table>\n",
       "</div>"
      ],
      "text/plain": [
       "     empresa      requisitor    po fecha_de_po num_cot  cantidad  \\\n",
       "74  Caliente  Marlen Sarabia  4023  2024-02-20    4023       2.0   \n",
       "\n",
       "                             descripción factura fecha_de_facturación  \\\n",
       "74  Soporte de pared Tabloide ( 2 Sets )      94           2023-03-04   \n",
       "\n",
       "    p_unit_dll  p_unit_pesos  sub_total_dll  sub_total_pesos  total_iva_dll  \\\n",
       "74         NaN        1310.0            NaN           2620.0            NaN   \n",
       "\n",
       "    total_iva_pesos tiempo_de_proceso  \n",
       "74           2829.6         -353 days  "
      ]
     },
     "execution_count": 75,
     "metadata": {},
     "output_type": "execute_result"
    }
   ],
   "source": [
    "df[df['tiempo_de_proceso'] == '-353 days']"
   ]
  },
  {
   "cell_type": "code",
   "execution_count": null,
   "id": "962edd88-22af-4815-89f1-d8e546179f4f",
   "metadata": {},
   "outputs": [],
   "source": []
  }
 ],
 "metadata": {
  "kernelspec": {
   "display_name": "Python [conda env:base] *",
   "language": "python",
   "name": "conda-base-py"
  },
  "language_info": {
   "codemirror_mode": {
    "name": "ipython",
    "version": 3
   },
   "file_extension": ".py",
   "mimetype": "text/x-python",
   "name": "python",
   "nbconvert_exporter": "python",
   "pygments_lexer": "ipython3",
   "version": "3.12.7"
  }
 },
 "nbformat": 4,
 "nbformat_minor": 5
}
